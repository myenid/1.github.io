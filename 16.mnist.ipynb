{
 "cells": [
  {
   "cell_type": "markdown",
   "metadata": {},
   "source": [
    "下载并查看MNIST数据集"
   ]
  },
  {
   "cell_type": "code",
   "execution_count": 1,
   "metadata": {},
   "outputs": [],
   "source": [
    "from keras.datasets import mnist "
   ]
  },
  {
   "cell_type": "code",
   "execution_count": 2,
   "metadata": {},
   "outputs": [],
   "source": [
    "#下载的数据集分为训练部分和测试部分，每个部分又分为特征和标签\n",
    "(train_image, train_label), (test_image, test_label) = mnist.load_data()"
   ]
  },
  {
   "cell_type": "code",
   "execution_count": 3,
   "metadata": {},
   "outputs": [
    {
     "name": "stdout",
     "output_type": "stream",
     "text": [
      "train_data =  60000\n",
      "test_data =  10000\n"
     ]
    }
   ],
   "source": [
    "#查看下数据集的大小，训练部分有60000项，测试部分有10000项\n",
    "print(\"train_data = \", len(train_image))\n",
    "print(\"test_data = \", len(test_image))"
   ]
  },
  {
   "cell_type": "code",
   "execution_count": 4,
   "metadata": {},
   "outputs": [
    {
     "data": {
      "text/plain": [
       "array([[  0,   0,   0,   0,   0,   0,   0,   0,   0,   0,   0,   0,   0,\n",
       "          0,   0,   0,   0,   0,   0,   0,   0,   0,   0,   0,   0,   0,\n",
       "          0,   0],\n",
       "       [  0,   0,   0,   0,   0,   0,   0,   0,   0,   0,   0,   0,   0,\n",
       "          0,   0,   0,   0,   0,   0,   0,   0,   0,   0,   0,   0,   0,\n",
       "          0,   0],\n",
       "       [  0,   0,   0,   0,   0,   0,   0,   0,   0,   0,   0,   0,   0,\n",
       "          0,   0,   0,   0,   0,   0,   0,   0,   0,   0,   0,   0,   0,\n",
       "          0,   0],\n",
       "       [  0,   0,   0,   0,   0,   0,   0,   0,   0,   0,   0,   0,   0,\n",
       "          0,   0,   0,   0,   0,   0,   0,   0,   0,   0,   0,   0,   0,\n",
       "          0,   0],\n",
       "       [  0,   0,   0,   0,   0,   0,   0,   0,   0,   0,   0,   0,   0,\n",
       "          0,   0,   0,   0,   0,   0,   0,   0,   0,   0,   0,   0,   0,\n",
       "          0,   0],\n",
       "       [  0,   0,   0,   0,   0,   0,   0,   0,   0,   0,   0,   0,   3,\n",
       "         18,  18,  18, 126, 136, 175,  26, 166, 255, 247, 127,   0,   0,\n",
       "          0,   0],\n",
       "       [  0,   0,   0,   0,   0,   0,   0,   0,  30,  36,  94, 154, 170,\n",
       "        253, 253, 253, 253, 253, 225, 172, 253, 242, 195,  64,   0,   0,\n",
       "          0,   0],\n",
       "       [  0,   0,   0,   0,   0,   0,   0,  49, 238, 253, 253, 253, 253,\n",
       "        253, 253, 253, 253, 251,  93,  82,  82,  56,  39,   0,   0,   0,\n",
       "          0,   0],\n",
       "       [  0,   0,   0,   0,   0,   0,   0,  18, 219, 253, 253, 253, 253,\n",
       "        253, 198, 182, 247, 241,   0,   0,   0,   0,   0,   0,   0,   0,\n",
       "          0,   0],\n",
       "       [  0,   0,   0,   0,   0,   0,   0,   0,  80, 156, 107, 253, 253,\n",
       "        205,  11,   0,  43, 154,   0,   0,   0,   0,   0,   0,   0,   0,\n",
       "          0,   0],\n",
       "       [  0,   0,   0,   0,   0,   0,   0,   0,   0,  14,   1, 154, 253,\n",
       "         90,   0,   0,   0,   0,   0,   0,   0,   0,   0,   0,   0,   0,\n",
       "          0,   0],\n",
       "       [  0,   0,   0,   0,   0,   0,   0,   0,   0,   0,   0, 139, 253,\n",
       "        190,   2,   0,   0,   0,   0,   0,   0,   0,   0,   0,   0,   0,\n",
       "          0,   0],\n",
       "       [  0,   0,   0,   0,   0,   0,   0,   0,   0,   0,   0,  11, 190,\n",
       "        253,  70,   0,   0,   0,   0,   0,   0,   0,   0,   0,   0,   0,\n",
       "          0,   0],\n",
       "       [  0,   0,   0,   0,   0,   0,   0,   0,   0,   0,   0,   0,  35,\n",
       "        241, 225, 160, 108,   1,   0,   0,   0,   0,   0,   0,   0,   0,\n",
       "          0,   0],\n",
       "       [  0,   0,   0,   0,   0,   0,   0,   0,   0,   0,   0,   0,   0,\n",
       "         81, 240, 253, 253, 119,  25,   0,   0,   0,   0,   0,   0,   0,\n",
       "          0,   0],\n",
       "       [  0,   0,   0,   0,   0,   0,   0,   0,   0,   0,   0,   0,   0,\n",
       "          0,  45, 186, 253, 253, 150,  27,   0,   0,   0,   0,   0,   0,\n",
       "          0,   0],\n",
       "       [  0,   0,   0,   0,   0,   0,   0,   0,   0,   0,   0,   0,   0,\n",
       "          0,   0,  16,  93, 252, 253, 187,   0,   0,   0,   0,   0,   0,\n",
       "          0,   0],\n",
       "       [  0,   0,   0,   0,   0,   0,   0,   0,   0,   0,   0,   0,   0,\n",
       "          0,   0,   0,   0, 249, 253, 249,  64,   0,   0,   0,   0,   0,\n",
       "          0,   0],\n",
       "       [  0,   0,   0,   0,   0,   0,   0,   0,   0,   0,   0,   0,   0,\n",
       "          0,  46, 130, 183, 253, 253, 207,   2,   0,   0,   0,   0,   0,\n",
       "          0,   0],\n",
       "       [  0,   0,   0,   0,   0,   0,   0,   0,   0,   0,   0,   0,  39,\n",
       "        148, 229, 253, 253, 253, 250, 182,   0,   0,   0,   0,   0,   0,\n",
       "          0,   0],\n",
       "       [  0,   0,   0,   0,   0,   0,   0,   0,   0,   0,  24, 114, 221,\n",
       "        253, 253, 253, 253, 201,  78,   0,   0,   0,   0,   0,   0,   0,\n",
       "          0,   0],\n",
       "       [  0,   0,   0,   0,   0,   0,   0,   0,  23,  66, 213, 253, 253,\n",
       "        253, 253, 198,  81,   2,   0,   0,   0,   0,   0,   0,   0,   0,\n",
       "          0,   0],\n",
       "       [  0,   0,   0,   0,   0,   0,  18, 171, 219, 253, 253, 253, 253,\n",
       "        195,  80,   9,   0,   0,   0,   0,   0,   0,   0,   0,   0,   0,\n",
       "          0,   0],\n",
       "       [  0,   0,   0,   0,  55, 172, 226, 253, 253, 253, 253, 244, 133,\n",
       "         11,   0,   0,   0,   0,   0,   0,   0,   0,   0,   0,   0,   0,\n",
       "          0,   0],\n",
       "       [  0,   0,   0,   0, 136, 253, 253, 253, 212, 135, 132,  16,   0,\n",
       "          0,   0,   0,   0,   0,   0,   0,   0,   0,   0,   0,   0,   0,\n",
       "          0,   0],\n",
       "       [  0,   0,   0,   0,   0,   0,   0,   0,   0,   0,   0,   0,   0,\n",
       "          0,   0,   0,   0,   0,   0,   0,   0,   0,   0,   0,   0,   0,\n",
       "          0,   0],\n",
       "       [  0,   0,   0,   0,   0,   0,   0,   0,   0,   0,   0,   0,   0,\n",
       "          0,   0,   0,   0,   0,   0,   0,   0,   0,   0,   0,   0,   0,\n",
       "          0,   0],\n",
       "       [  0,   0,   0,   0,   0,   0,   0,   0,   0,   0,   0,   0,   0,\n",
       "          0,   0,   0,   0,   0,   0,   0,   0,   0,   0,   0,   0,   0,\n",
       "          0,   0]], dtype=uint8)"
      ]
     },
     "execution_count": 4,
     "metadata": {},
     "output_type": "execute_result"
    }
   ],
   "source": [
    "#数据集中所有图片都是黑白的，分辨率28*28\n",
    "train_image[0]"
   ]
  },
  {
   "cell_type": "code",
   "execution_count": 5,
   "metadata": {},
   "outputs": [
    {
     "name": "stdout",
     "output_type": "stream",
     "text": [
      "train_image =  (60000, 28, 28)\n",
      "train_label =  (60000,)\n"
     ]
    }
   ],
   "source": [
    "print(\"train_image = \", train_image.shape)\n",
    "print(\"train_label = \", train_label.shape)"
   ]
  },
  {
   "cell_type": "code",
   "execution_count": 6,
   "metadata": {},
   "outputs": [],
   "source": [
    "#编写一个函数，用于查看数据集中的图片\n",
    "import matplotlib.pyplot as plt\n",
    "def show_mnist_image(image):\n",
    "    plt.imshow(image, cmap = 'gray')\n",
    "    plt.show()"
   ]
  },
  {
   "cell_type": "code",
   "execution_count": 7,
   "metadata": {},
   "outputs": [
    {
     "data": {
      "image/png": "[encoded data removed]",
      "text/plain": [
       "<Figure size 432x288 with 1 Axes>"
      ]
     },
     "metadata": {
      "needs_background": "light"
     },
     "output_type": "display_data"
    }
   ],
   "source": [
    "show_mnist_image(train_image[0])"
   ]
  },
  {
   "cell_type": "code",
   "execution_count": 8,
   "metadata": {},
   "outputs": [
    {
     "data": {
      "text/plain": [
       "5"
      ]
     },
     "execution_count": 8,
     "metadata": {},
     "output_type": "execute_result"
    }
   ],
   "source": [
    "train_label[0]"
   ]
  },
  {
   "cell_type": "markdown",
   "metadata": {},
   "source": [
    "数据的预处理：特征部分归一化转化，数据落在0~1之间，标签部分进行一位有效编码的转换"
   ]
  },
  {
   "cell_type": "code",
   "execution_count": 9,
   "metadata": {},
   "outputs": [],
   "source": [
    "train_image_array = train_image.reshape(60000, 784).astype(float)\n",
    "test_image_array = test_image.reshape(10000, 784).astype(float)"
   ]
  },
  {
   "cell_type": "code",
   "execution_count": 10,
   "metadata": {},
   "outputs": [
    {
     "name": "stdout",
     "output_type": "stream",
     "text": [
      "train_image_array =  (60000, 784)\n",
      "test_image_array =  (10000, 784)\n"
     ]
    }
   ],
   "source": [
    "print(\"train_image_array = \", train_image_array.shape)\n",
    "print(\"test_image_array = \", test_image_array.shape)"
   ]
  },
  {
   "cell_type": "code",
   "execution_count": 11,
   "metadata": {},
   "outputs": [
    {
     "data": {
      "text/plain": [
       "array([  0.,   0.,   0.,   0.,   0.,   0.,   0.,   0.,   0.,   0.,   0.,\n",
       "         0.,   0.,   0.,   0.,   0.,   0.,   0.,   0.,   0.,   0.,   0.,\n",
       "         0.,   0.,   0.,   0.,   0.,   0.,   0.,   0.,   0.,   0.,   0.,\n",
       "         0.,   0.,   0.,   0.,   0.,   0.,   0.,   0.,   0.,   0.,   0.,\n",
       "         0.,   0.,   0.,   0.,   0.,   0.,   0.,   0.,   0.,   0.,   0.,\n",
       "         0.,   0.,   0.,   0.,   0.,   0.,   0.,   0.,   0.,   0.,   0.,\n",
       "         0.,   0.,   0.,   0.,   0.,   0.,   0.,   0.,   0.,   0.,   0.,\n",
       "         0.,   0.,   0.,   0.,   0.,   0.,   0.,   0.,   0.,   0.,   0.,\n",
       "         0.,   0.,   0.,   0.,   0.,   0.,   0.,   0.,   0.,   0.,   0.,\n",
       "         0.,   0.,   0.,   0.,   0.,   0.,   0.,   0.,   0.,   0.,   0.,\n",
       "         0.,   0.,   0.,   0.,   0.,   0.,   0.,   0.,   0.,   0.,   0.,\n",
       "         0.,   0.,   0.,   0.,   0.,   0.,   0.,   0.,   0.,   0.,   0.,\n",
       "         0.,   0.,   0.,   0.,   0.,   0.,   0.,   0.,   0.,   0.,   0.,\n",
       "         0.,   0.,   0.,   0.,   0.,   0.,   0.,   0.,   0.,   3.,  18.,\n",
       "        18.,  18., 126., 136., 175.,  26., 166., 255., 247., 127.,   0.,\n",
       "         0.,   0.,   0.,   0.,   0.,   0.,   0.,   0.,   0.,   0.,   0.,\n",
       "        30.,  36.,  94., 154., 170., 253., 253., 253., 253., 253., 225.,\n",
       "       172., 253., 242., 195.,  64.,   0.,   0.,   0.,   0.,   0.,   0.,\n",
       "         0.,   0.,   0.,   0.,   0.,  49., 238., 253., 253., 253., 253.,\n",
       "       253., 253., 253., 253., 251.,  93.,  82.,  82.,  56.,  39.,   0.,\n",
       "         0.,   0.,   0.,   0.,   0.,   0.,   0.,   0.,   0.,   0.,   0.,\n",
       "        18., 219., 253., 253., 253., 253., 253., 198., 182., 247., 241.,\n",
       "         0.,   0.,   0.,   0.,   0.,   0.,   0.,   0.,   0.,   0.,   0.,\n",
       "         0.,   0.,   0.,   0.,   0.,   0.,   0.,  80., 156., 107., 253.,\n",
       "       253., 205.,  11.,   0.,  43., 154.,   0.,   0.,   0.,   0.,   0.,\n",
       "         0.,   0.,   0.,   0.,   0.,   0.,   0.,   0.,   0.,   0.,   0.,\n",
       "         0.,   0.,   0.,  14.,   1., 154., 253.,  90.,   0.,   0.,   0.,\n",
       "         0.,   0.,   0.,   0.,   0.,   0.,   0.,   0.,   0.,   0.,   0.,\n",
       "         0.,   0.,   0.,   0.,   0.,   0.,   0.,   0.,   0.,   0.,   0.,\n",
       "       139., 253., 190.,   2.,   0.,   0.,   0.,   0.,   0.,   0.,   0.,\n",
       "         0.,   0.,   0.,   0.,   0.,   0.,   0.,   0.,   0.,   0.,   0.,\n",
       "         0.,   0.,   0.,   0.,   0.,   0.,  11., 190., 253.,  70.,   0.,\n",
       "         0.,   0.,   0.,   0.,   0.,   0.,   0.,   0.,   0.,   0.,   0.,\n",
       "         0.,   0.,   0.,   0.,   0.,   0.,   0.,   0.,   0.,   0.,   0.,\n",
       "         0.,   0.,  35., 241., 225., 160., 108.,   1.,   0.,   0.,   0.,\n",
       "         0.,   0.,   0.,   0.,   0.,   0.,   0.,   0.,   0.,   0.,   0.,\n",
       "         0.,   0.,   0.,   0.,   0.,   0.,   0.,   0.,   0.,  81., 240.,\n",
       "       253., 253., 119.,  25.,   0.,   0.,   0.,   0.,   0.,   0.,   0.,\n",
       "         0.,   0.,   0.,   0.,   0.,   0.,   0.,   0.,   0.,   0.,   0.,\n",
       "         0.,   0.,   0.,   0.,   0.,  45., 186., 253., 253., 150.,  27.,\n",
       "         0.,   0.,   0.,   0.,   0.,   0.,   0.,   0.,   0.,   0.,   0.,\n",
       "         0.,   0.,   0.,   0.,   0.,   0.,   0.,   0.,   0.,   0.,   0.,\n",
       "         0.,  16.,  93., 252., 253., 187.,   0.,   0.,   0.,   0.,   0.,\n",
       "         0.,   0.,   0.,   0.,   0.,   0.,   0.,   0.,   0.,   0.,   0.,\n",
       "         0.,   0.,   0.,   0.,   0.,   0.,   0.,   0.,   0., 249., 253.,\n",
       "       249.,  64.,   0.,   0.,   0.,   0.,   0.,   0.,   0.,   0.,   0.,\n",
       "         0.,   0.,   0.,   0.,   0.,   0.,   0.,   0.,   0.,   0.,   0.,\n",
       "         0.,  46., 130., 183., 253., 253., 207.,   2.,   0.,   0.,   0.,\n",
       "         0.,   0.,   0.,   0.,   0.,   0.,   0.,   0.,   0.,   0.,   0.,\n",
       "         0.,   0.,   0.,   0.,   0.,  39., 148., 229., 253., 253., 253.,\n",
       "       250., 182.,   0.,   0.,   0.,   0.,   0.,   0.,   0.,   0.,   0.,\n",
       "         0.,   0.,   0.,   0.,   0.,   0.,   0.,   0.,   0.,  24., 114.,\n",
       "       221., 253., 253., 253., 253., 201.,  78.,   0.,   0.,   0.,   0.,\n",
       "         0.,   0.,   0.,   0.,   0.,   0.,   0.,   0.,   0.,   0.,   0.,\n",
       "         0.,   0.,  23.,  66., 213., 253., 253., 253., 253., 198.,  81.,\n",
       "         2.,   0.,   0.,   0.,   0.,   0.,   0.,   0.,   0.,   0.,   0.,\n",
       "         0.,   0.,   0.,   0.,   0.,   0.,  18., 171., 219., 253., 253.,\n",
       "       253., 253., 195.,  80.,   9.,   0.,   0.,   0.,   0.,   0.,   0.,\n",
       "         0.,   0.,   0.,   0.,   0.,   0.,   0.,   0.,   0.,   0.,  55.,\n",
       "       172., 226., 253., 253., 253., 253., 244., 133.,  11.,   0.,   0.,\n",
       "         0.,   0.,   0.,   0.,   0.,   0.,   0.,   0.,   0.,   0.,   0.,\n",
       "         0.,   0.,   0.,   0.,   0., 136., 253., 253., 253., 212., 135.,\n",
       "       132.,  16.,   0.,   0.,   0.,   0.,   0.,   0.,   0.,   0.,   0.,\n",
       "         0.,   0.,   0.,   0.,   0.,   0.,   0.,   0.,   0.,   0.,   0.,\n",
       "         0.,   0.,   0.,   0.,   0.,   0.,   0.,   0.,   0.,   0.,   0.,\n",
       "         0.,   0.,   0.,   0.,   0.,   0.,   0.,   0.,   0.,   0.,   0.,\n",
       "         0.,   0.,   0.,   0.,   0.,   0.,   0.,   0.,   0.,   0.,   0.,\n",
       "         0.,   0.,   0.,   0.,   0.,   0.,   0.,   0.,   0.,   0.,   0.,\n",
       "         0.,   0.,   0.,   0.,   0.,   0.,   0.,   0.,   0.,   0.,   0.,\n",
       "         0.,   0.,   0.,   0.,   0.,   0.,   0.,   0.,   0.,   0.,   0.,\n",
       "         0.,   0.,   0.,   0.,   0.,   0.,   0.,   0.,   0.,   0.,   0.,\n",
       "         0.,   0.,   0.])"
      ]
     },
     "execution_count": 11,
     "metadata": {},
     "output_type": "execute_result"
    }
   ],
   "source": [
    "train_image_array[0]"
   ]
  },
  {
   "cell_type": "code",
   "execution_count": 12,
   "metadata": {},
   "outputs": [],
   "source": [
    "train_image_normalize = train_image_array / 255\n",
    "test_image_normalize = test_image_array / 255"
   ]
  },
  {
   "cell_type": "code",
   "execution_count": 13,
   "metadata": {},
   "outputs": [
    {
     "data": {
      "text/plain": [
       "array([0.        , 0.        , 0.        , 0.        , 0.        ,\n",
       "       0.        , 0.        , 0.        , 0.        , 0.        ,\n",
       "       0.        , 0.        , 0.        , 0.        , 0.        ,\n",
       "       0.        , 0.        , 0.        , 0.        , 0.        ,\n",
       "       0.        , 0.        , 0.        , 0.        , 0.        ,\n",
       "       0.        , 0.        , 0.        , 0.        , 0.        ,\n",
       "       0.        , 0.        , 0.        , 0.        , 0.        ,\n",
       "       0.        , 0.        , 0.        , 0.        , 0.        ,\n",
       "       0.        , 0.        , 0.        , 0.        , 0.        ,\n",
       "       0.        , 0.        , 0.        , 0.        , 0.        ,\n",
       "       0.        , 0.        , 0.        , 0.        , 0.        ,\n",
       "       0.        , 0.        , 0.        , 0.        , 0.        ,\n",
       "       0.        , 0.        , 0.        , 0.        , 0.        ,\n",
       "       0.        , 0.        , 0.        , 0.        , 0.        ,\n",
       "       0.        , 0.        , 0.        , 0.        , 0.        ,\n",
       "       0.        , 0.        , 0.        , 0.        , 0.        ,\n",
       "       0.        , 0.        , 0.        , 0.        , 0.        ,\n",
       "       0.        , 0.        , 0.        , 0.        , 0.        ,\n",
       "       0.        , 0.        , 0.        , 0.        , 0.        ,\n",
       "       0.        , 0.        , 0.        , 0.        , 0.        ,\n",
       "       0.        , 0.        , 0.        , 0.        , 0.        ,\n",
       "       0.        , 0.        , 0.        , 0.        , 0.        ,\n",
       "       0.        , 0.        , 0.        , 0.        , 0.        ,\n",
       "       0.        , 0.        , 0.        , 0.        , 0.        ,\n",
       "       0.        , 0.        , 0.        , 0.        , 0.        ,\n",
       "       0.        , 0.        , 0.        , 0.        , 0.        ,\n",
       "       0.        , 0.        , 0.        , 0.        , 0.        ,\n",
       "       0.        , 0.        , 0.        , 0.        , 0.        ,\n",
       "       0.        , 0.        , 0.        , 0.        , 0.        ,\n",
       "       0.        , 0.        , 0.        , 0.        , 0.        ,\n",
       "       0.        , 0.        , 0.01176471, 0.07058824, 0.07058824,\n",
       "       0.07058824, 0.49411765, 0.53333333, 0.68627451, 0.10196078,\n",
       "       0.65098039, 1.        , 0.96862745, 0.49803922, 0.        ,\n",
       "       0.        , 0.        , 0.        , 0.        , 0.        ,\n",
       "       0.        , 0.        , 0.        , 0.        , 0.        ,\n",
       "       0.        , 0.11764706, 0.14117647, 0.36862745, 0.60392157,\n",
       "       0.66666667, 0.99215686, 0.99215686, 0.99215686, 0.99215686,\n",
       "       0.99215686, 0.88235294, 0.6745098 , 0.99215686, 0.94901961,\n",
       "       0.76470588, 0.25098039, 0.        , 0.        , 0.        ,\n",
       "       0.        , 0.        , 0.        , 0.        , 0.        ,\n",
       "       0.        , 0.        , 0.        , 0.19215686, 0.93333333,\n",
       "       0.99215686, 0.99215686, 0.99215686, 0.99215686, 0.99215686,\n",
       "       0.99215686, 0.99215686, 0.99215686, 0.98431373, 0.36470588,\n",
       "       0.32156863, 0.32156863, 0.21960784, 0.15294118, 0.        ,\n",
       "       0.        , 0.        , 0.        , 0.        , 0.        ,\n",
       "       0.        , 0.        , 0.        , 0.        , 0.        ,\n",
       "       0.        , 0.07058824, 0.85882353, 0.99215686, 0.99215686,\n",
       "       0.99215686, 0.99215686, 0.99215686, 0.77647059, 0.71372549,\n",
       "       0.96862745, 0.94509804, 0.        , 0.        , 0.        ,\n",
       "       0.        , 0.        , 0.        , 0.        , 0.        ,\n",
       "       0.        , 0.        , 0.        , 0.        , 0.        ,\n",
       "       0.        , 0.        , 0.        , 0.        , 0.        ,\n",
       "       0.31372549, 0.61176471, 0.41960784, 0.99215686, 0.99215686,\n",
       "       0.80392157, 0.04313725, 0.        , 0.16862745, 0.60392157,\n",
       "       0.        , 0.        , 0.        , 0.        , 0.        ,\n",
       "       0.        , 0.        , 0.        , 0.        , 0.        ,\n",
       "       0.        , 0.        , 0.        , 0.        , 0.        ,\n",
       "       0.        , 0.        , 0.        , 0.        , 0.05490196,\n",
       "       0.00392157, 0.60392157, 0.99215686, 0.35294118, 0.        ,\n",
       "       0.        , 0.        , 0.        , 0.        , 0.        ,\n",
       "       0.        , 0.        , 0.        , 0.        , 0.        ,\n",
       "       0.        , 0.        , 0.        , 0.        , 0.        ,\n",
       "       0.        , 0.        , 0.        , 0.        , 0.        ,\n",
       "       0.        , 0.        , 0.        , 0.        , 0.54509804,\n",
       "       0.99215686, 0.74509804, 0.00784314, 0.        , 0.        ,\n",
       "       0.        , 0.        , 0.        , 0.        , 0.        ,\n",
       "       0.        , 0.        , 0.        , 0.        , 0.        ,\n",
       "       0.        , 0.        , 0.        , 0.        , 0.        ,\n",
       "       0.        , 0.        , 0.        , 0.        , 0.        ,\n",
       "       0.        , 0.        , 0.04313725, 0.74509804, 0.99215686,\n",
       "       0.2745098 , 0.        , 0.        , 0.        , 0.        ,\n",
       "       0.        , 0.        , 0.        , 0.        , 0.        ,\n",
       "       0.        , 0.        , 0.        , 0.        , 0.        ,\n",
       "       0.        , 0.        , 0.        , 0.        , 0.        ,\n",
       "       0.        , 0.        , 0.        , 0.        , 0.        ,\n",
       "       0.        , 0.1372549 , 0.94509804, 0.88235294, 0.62745098,\n",
       "       0.42352941, 0.00392157, 0.        , 0.        , 0.        ,\n",
       "       0.        , 0.        , 0.        , 0.        , 0.        ,\n",
       "       0.        , 0.        , 0.        , 0.        , 0.        ,\n",
       "       0.        , 0.        , 0.        , 0.        , 0.        ,\n",
       "       0.        , 0.        , 0.        , 0.        , 0.        ,\n",
       "       0.31764706, 0.94117647, 0.99215686, 0.99215686, 0.46666667,\n",
       "       0.09803922, 0.        , 0.        , 0.        , 0.        ,\n",
       "       0.        , 0.        , 0.        , 0.        , 0.        ,\n",
       "       0.        , 0.        , 0.        , 0.        , 0.        ,\n",
       "       0.        , 0.        , 0.        , 0.        , 0.        ,\n",
       "       0.        , 0.        , 0.        , 0.        , 0.17647059,\n",
       "       0.72941176, 0.99215686, 0.99215686, 0.58823529, 0.10588235,\n",
       "       0.        , 0.        , 0.        , 0.        , 0.        ,\n",
       "       0.        , 0.        , 0.        , 0.        , 0.        ,\n",
       "       0.        , 0.        , 0.        , 0.        , 0.        ,\n",
       "       0.        , 0.        , 0.        , 0.        , 0.        ,\n",
       "       0.        , 0.        , 0.        , 0.0627451 , 0.36470588,\n",
       "       0.98823529, 0.99215686, 0.73333333, 0.        , 0.        ,\n",
       "       0.        , 0.        , 0.        , 0.        , 0.        ,\n",
       "       0.        , 0.        , 0.        , 0.        , 0.        ,\n",
       "       0.        , 0.        , 0.        , 0.        , 0.        ,\n",
       "       0.        , 0.        , 0.        , 0.        , 0.        ,\n",
       "       0.        , 0.        , 0.        , 0.97647059, 0.99215686,\n",
       "       0.97647059, 0.25098039, 0.        , 0.        , 0.        ,\n",
       "       0.        , 0.        , 0.        , 0.        , 0.        ,\n",
       "       0.        , 0.        , 0.        , 0.        , 0.        ,\n",
       "       0.        , 0.        , 0.        , 0.        , 0.        ,\n",
       "       0.        , 0.        , 0.        , 0.18039216, 0.50980392,\n",
       "       0.71764706, 0.99215686, 0.99215686, 0.81176471, 0.00784314,\n",
       "       0.        , 0.        , 0.        , 0.        , 0.        ,\n",
       "       0.        , 0.        , 0.        , 0.        , 0.        ,\n",
       "       0.        , 0.        , 0.        , 0.        , 0.        ,\n",
       "       0.        , 0.        , 0.        , 0.        , 0.15294118,\n",
       "       0.58039216, 0.89803922, 0.99215686, 0.99215686, 0.99215686,\n",
       "       0.98039216, 0.71372549, 0.        , 0.        , 0.        ,\n",
       "       0.        , 0.        , 0.        , 0.        , 0.        ,\n",
       "       0.        , 0.        , 0.        , 0.        , 0.        ,\n",
       "       0.        , 0.        , 0.        , 0.        , 0.        ,\n",
       "       0.09411765, 0.44705882, 0.86666667, 0.99215686, 0.99215686,\n",
       "       0.99215686, 0.99215686, 0.78823529, 0.30588235, 0.        ,\n",
       "       0.        , 0.        , 0.        , 0.        , 0.        ,\n",
       "       0.        , 0.        , 0.        , 0.        , 0.        ,\n",
       "       0.        , 0.        , 0.        , 0.        , 0.        ,\n",
       "       0.        , 0.09019608, 0.25882353, 0.83529412, 0.99215686,\n",
       "       0.99215686, 0.99215686, 0.99215686, 0.77647059, 0.31764706,\n",
       "       0.00784314, 0.        , 0.        , 0.        , 0.        ,\n",
       "       0.        , 0.        , 0.        , 0.        , 0.        ,\n",
       "       0.        , 0.        , 0.        , 0.        , 0.        ,\n",
       "       0.        , 0.        , 0.07058824, 0.67058824, 0.85882353,\n",
       "       0.99215686, 0.99215686, 0.99215686, 0.99215686, 0.76470588,\n",
       "       0.31372549, 0.03529412, 0.        , 0.        , 0.        ,\n",
       "       0.        , 0.        , 0.        , 0.        , 0.        ,\n",
       "       0.        , 0.        , 0.        , 0.        , 0.        ,\n",
       "       0.        , 0.        , 0.        , 0.21568627, 0.6745098 ,\n",
       "       0.88627451, 0.99215686, 0.99215686, 0.99215686, 0.99215686,\n",
       "       0.95686275, 0.52156863, 0.04313725, 0.        , 0.        ,\n",
       "       0.        , 0.        , 0.        , 0.        , 0.        ,\n",
       "       0.        , 0.        , 0.        , 0.        , 0.        ,\n",
       "       0.        , 0.        , 0.        , 0.        , 0.        ,\n",
       "       0.        , 0.53333333, 0.99215686, 0.99215686, 0.99215686,\n",
       "       0.83137255, 0.52941176, 0.51764706, 0.0627451 , 0.        ,\n",
       "       0.        , 0.        , 0.        , 0.        , 0.        ,\n",
       "       0.        , 0.        , 0.        , 0.        , 0.        ,\n",
       "       0.        , 0.        , 0.        , 0.        , 0.        ,\n",
       "       0.        , 0.        , 0.        , 0.        , 0.        ,\n",
       "       0.        , 0.        , 0.        , 0.        , 0.        ,\n",
       "       0.        , 0.        , 0.        , 0.        , 0.        ,\n",
       "       0.        , 0.        , 0.        , 0.        , 0.        ,\n",
       "       0.        , 0.        , 0.        , 0.        , 0.        ,\n",
       "       0.        , 0.        , 0.        , 0.        , 0.        ,\n",
       "       0.        , 0.        , 0.        , 0.        , 0.        ,\n",
       "       0.        , 0.        , 0.        , 0.        , 0.        ,\n",
       "       0.        , 0.        , 0.        , 0.        , 0.        ,\n",
       "       0.        , 0.        , 0.        , 0.        , 0.        ,\n",
       "       0.        , 0.        , 0.        , 0.        , 0.        ,\n",
       "       0.        , 0.        , 0.        , 0.        , 0.        ,\n",
       "       0.        , 0.        , 0.        , 0.        , 0.        ,\n",
       "       0.        , 0.        , 0.        , 0.        , 0.        ,\n",
       "       0.        , 0.        , 0.        , 0.        , 0.        ,\n",
       "       0.        , 0.        , 0.        , 0.        , 0.        ,\n",
       "       0.        , 0.        , 0.        , 0.        ])"
      ]
     },
     "execution_count": 13,
     "metadata": {},
     "output_type": "execute_result"
    }
   ],
   "source": [
    "train_image_normalize[0]"
   ]
  },
  {
   "cell_type": "code",
   "execution_count": 14,
   "metadata": {},
   "outputs": [],
   "source": [
    "#对标签进行一位有效编码的转换\n",
    "from keras.utils import np_utils\n",
    "import numpy as np\n",
    "\n",
    "train_label_onehotencoding = np_utils.to_categorical(train_label)\n",
    "test_label_onehotencoding = np_utils.to_categorical(test_label)"
   ]
  },
  {
   "cell_type": "code",
   "execution_count": 15,
   "metadata": {},
   "outputs": [
    {
     "data": {
      "text/plain": [
       "array([0., 0., 0., 0., 0., 1., 0., 0., 0., 0.], dtype=float32)"
      ]
     },
     "execution_count": 15,
     "metadata": {},
     "output_type": "execute_result"
    }
   ],
   "source": [
    "train_label_onehotencoding[0]"
   ]
  },
  {
   "cell_type": "markdown",
   "metadata": {},
   "source": [
    "建立多层感知器模型"
   ]
  },
  {
   "cell_type": "code",
   "execution_count": 16,
   "metadata": {},
   "outputs": [],
   "source": [
    "from keras.models import Sequential\n",
    "from keras.layers import Dense"
   ]
  },
  {
   "cell_type": "markdown",
   "metadata": {},
   "source": [
    "建立输入层和隐藏层之间的关系"
   ]
  },
  {
   "cell_type": "code",
   "execution_count": 17,
   "metadata": {},
   "outputs": [],
   "source": [
    "#Sequential:建立一个线性堆叠的模型\n",
    "model = Sequential()"
   ]
  },
  {
   "cell_type": "code",
   "execution_count": 18,
   "metadata": {},
   "outputs": [],
   "source": [
    "#model.add:添加神经网络层\n",
    "#units:表示隐藏层的神经单元个数\n",
    "#input_dim:输入层神经单元个数\n",
    "# kernel_initializer = 'normal':以正太分布的方式产生权重和偏差\n",
    "#activation = relu ：激活函数\n",
    "model.add(Dense(units = 256, input_dim = 784, kernel_initializer = 'normal', activation = 'relu'))"
   ]
  },
  {
   "cell_type": "markdown",
   "metadata": {},
   "source": [
    "建立隐藏层和输出层之间的关系"
   ]
  },
  {
   "cell_type": "code",
   "execution_count": 19,
   "metadata": {},
   "outputs": [],
   "source": [
    "#softmax: 预测结果各个可能性的准确率结果加到一起总和为1\n",
    "model.add(Dense(units = 10, kernel_initializer = 'normal', activation = 'softmax'))"
   ]
  },
  {
   "cell_type": "markdown",
   "metadata": {},
   "source": [
    "查看下当前模型"
   ]
  },
  {
   "cell_type": "code",
   "execution_count": 20,
   "metadata": {},
   "outputs": [
    {
     "name": "stdout",
     "output_type": "stream",
     "text": [
      "Model: \"sequential\"\n",
      "_________________________________________________________________\n",
      "Layer (type)                 Output Shape              Param #   \n",
      "=================================================================\n",
      "dense (Dense)                (None, 256)               200960    \n",
      "_________________________________________________________________\n",
      "dense_1 (Dense)              (None, 10)                2570      \n",
      "=================================================================\n",
      "Total params: 203,530\n",
      "Trainable params: 203,530\n",
      "Non-trainable params: 0\n",
      "_________________________________________________________________\n",
      "None\n"
     ]
    }
   ],
   "source": [
    "#当前层神经单元个数*上一层神经单元个数+本层神经单元个数\n",
    "print(model.summary())"
   ]
  },
  {
   "cell_type": "markdown",
   "metadata": {},
   "source": [
    "配置模型的选项"
   ]
  },
  {
   "cell_type": "code",
   "execution_count": 21,
   "metadata": {},
   "outputs": [],
   "source": [
    "#loss='categorical_crossentropy':使用交叉熵的方式产生损失函数\n",
    "#adam:优化器，尽快收敛\n",
    "#accuracy：目标是提高准确率\n",
    "model.compile(loss='categorical_crossentropy', optimizer='adam', metrics=['accuracy'])"
   ]
  },
  {
   "cell_type": "markdown",
   "metadata": {},
   "source": [
    "训练模型"
   ]
  },
  {
   "cell_type": "code",
   "execution_count": 22,
   "metadata": {},
   "outputs": [
    {
     "name": "stdout",
     "output_type": "stream",
     "text": [
      "Epoch 1/60\n",
      "240/240 - 2s - loss: 0.4379 - accuracy: 0.8831 - val_loss: 0.2150 - val_accuracy: 0.9411\n",
      "Epoch 2/60\n",
      "240/240 - 2s - loss: 0.1913 - accuracy: 0.9457 - val_loss: 0.1573 - val_accuracy: 0.9553\n",
      "Epoch 3/60\n",
      "240/240 - 2s - loss: 0.1369 - accuracy: 0.9615 - val_loss: 0.1308 - val_accuracy: 0.9628\n",
      "Epoch 4/60\n",
      "240/240 - 1s - loss: 0.1055 - accuracy: 0.9699 - val_loss: 0.1156 - val_accuracy: 0.9653\n",
      "Epoch 5/60\n",
      "240/240 - 1s - loss: 0.0833 - accuracy: 0.9762 - val_loss: 0.0991 - val_accuracy: 0.9710\n",
      "Epoch 6/60\n",
      "240/240 - 1s - loss: 0.0672 - accuracy: 0.9816 - val_loss: 0.0941 - val_accuracy: 0.9707\n",
      "Epoch 7/60\n",
      "240/240 - 1s - loss: 0.0555 - accuracy: 0.9851 - val_loss: 0.0848 - val_accuracy: 0.9741\n",
      "Epoch 8/60\n",
      "240/240 - 1s - loss: 0.0459 - accuracy: 0.9875 - val_loss: 0.0846 - val_accuracy: 0.9735\n",
      "Epoch 9/60\n",
      "240/240 - 1s - loss: 0.0377 - accuracy: 0.9906 - val_loss: 0.0828 - val_accuracy: 0.9756\n",
      "Epoch 10/60\n",
      "240/240 - 1s - loss: 0.0312 - accuracy: 0.9925 - val_loss: 0.0781 - val_accuracy: 0.9764\n",
      "Epoch 11/60\n",
      "240/240 - 1s - loss: 0.0260 - accuracy: 0.9941 - val_loss: 0.0779 - val_accuracy: 0.9768\n",
      "Epoch 12/60\n",
      "240/240 - 1s - loss: 0.0211 - accuracy: 0.9959 - val_loss: 0.0766 - val_accuracy: 0.9765\n",
      "Epoch 13/60\n",
      "240/240 - 1s - loss: 0.0186 - accuracy: 0.9963 - val_loss: 0.0805 - val_accuracy: 0.9774\n",
      "Epoch 14/60\n",
      "240/240 - 1s - loss: 0.0152 - accuracy: 0.9970 - val_loss: 0.0769 - val_accuracy: 0.9772\n",
      "Epoch 15/60\n",
      "240/240 - 2s - loss: 0.0127 - accuracy: 0.9977 - val_loss: 0.0786 - val_accuracy: 0.9770\n",
      "Epoch 16/60\n",
      "240/240 - 1s - loss: 0.0108 - accuracy: 0.9983 - val_loss: 0.0782 - val_accuracy: 0.9790\n",
      "Epoch 17/60\n",
      "240/240 - 1s - loss: 0.0085 - accuracy: 0.9988 - val_loss: 0.0784 - val_accuracy: 0.9778\n",
      "Epoch 18/60\n",
      "240/240 - 1s - loss: 0.0071 - accuracy: 0.9990 - val_loss: 0.0783 - val_accuracy: 0.9775\n",
      "Epoch 19/60\n",
      "240/240 - 1s - loss: 0.0060 - accuracy: 0.9995 - val_loss: 0.0805 - val_accuracy: 0.9783\n",
      "Epoch 20/60\n",
      "240/240 - 1s - loss: 0.0052 - accuracy: 0.9995 - val_loss: 0.0803 - val_accuracy: 0.9790\n",
      "Epoch 21/60\n",
      "240/240 - 1s - loss: 0.0041 - accuracy: 0.9998 - val_loss: 0.0819 - val_accuracy: 0.9787\n",
      "Epoch 22/60\n",
      "240/240 - 1s - loss: 0.0031 - accuracy: 0.9999 - val_loss: 0.0806 - val_accuracy: 0.9790\n",
      "Epoch 23/60\n",
      "240/240 - 1s - loss: 0.0028 - accuracy: 0.9998 - val_loss: 0.0836 - val_accuracy: 0.9787\n",
      "Epoch 24/60\n",
      "240/240 - 2s - loss: 0.0028 - accuracy: 0.9998 - val_loss: 0.0895 - val_accuracy: 0.9762\n",
      "Epoch 25/60\n",
      "240/240 - 1s - loss: 0.0028 - accuracy: 0.9998 - val_loss: 0.0849 - val_accuracy: 0.9785\n",
      "Epoch 26/60\n",
      "240/240 - 1s - loss: 0.0016 - accuracy: 1.0000 - val_loss: 0.0844 - val_accuracy: 0.9793\n",
      "Epoch 27/60\n",
      "240/240 - 1s - loss: 0.0032 - accuracy: 0.9994 - val_loss: 0.0877 - val_accuracy: 0.9793\n",
      "Epoch 28/60\n",
      "240/240 - 1s - loss: 0.0015 - accuracy: 1.0000 - val_loss: 0.0864 - val_accuracy: 0.9793\n",
      "Epoch 29/60\n",
      "240/240 - 1s - loss: 0.0010 - accuracy: 1.0000 - val_loss: 0.0869 - val_accuracy: 0.9800\n",
      "Epoch 30/60\n",
      "240/240 - 2s - loss: 8.1460e-04 - accuracy: 1.0000 - val_loss: 0.0897 - val_accuracy: 0.9793\n",
      "Epoch 31/60\n",
      "240/240 - 2s - loss: 8.2856e-04 - accuracy: 1.0000 - val_loss: 0.0873 - val_accuracy: 0.9793\n",
      "Epoch 32/60\n",
      "240/240 - 1s - loss: 6.7222e-04 - accuracy: 1.0000 - val_loss: 0.0891 - val_accuracy: 0.9794\n",
      "Epoch 33/60\n",
      "240/240 - 1s - loss: 5.5443e-04 - accuracy: 1.0000 - val_loss: 0.0915 - val_accuracy: 0.9803\n",
      "Epoch 34/60\n",
      "240/240 - 1s - loss: 5.1372e-04 - accuracy: 1.0000 - val_loss: 0.0924 - val_accuracy: 0.9797\n",
      "Epoch 35/60\n",
      "240/240 - 1s - loss: 5.0796e-04 - accuracy: 1.0000 - val_loss: 0.0930 - val_accuracy: 0.9801\n",
      "Epoch 36/60\n",
      "240/240 - 1s - loss: 4.7645e-04 - accuracy: 1.0000 - val_loss: 0.0939 - val_accuracy: 0.9801\n",
      "Epoch 37/60\n",
      "240/240 - 1s - loss: 0.0030 - accuracy: 0.9992 - val_loss: 0.1591 - val_accuracy: 0.9693\n",
      "Epoch 38/60\n",
      "240/240 - 1s - loss: 0.0181 - accuracy: 0.9940 - val_loss: 0.1051 - val_accuracy: 0.9759\n",
      "Epoch 39/60\n",
      "240/240 - 1s - loss: 0.0030 - accuracy: 0.9993 - val_loss: 0.1017 - val_accuracy: 0.9788\n",
      "Epoch 40/60\n",
      "240/240 - 1s - loss: 6.6050e-04 - accuracy: 1.0000 - val_loss: 0.0977 - val_accuracy: 0.9803\n",
      "Epoch 41/60\n",
      "240/240 - 1s - loss: 4.1213e-04 - accuracy: 1.0000 - val_loss: 0.0984 - val_accuracy: 0.9798\n",
      "Epoch 42/60\n",
      "240/240 - 1s - loss: 3.2931e-04 - accuracy: 1.0000 - val_loss: 0.0997 - val_accuracy: 0.9799\n",
      "Epoch 43/60\n",
      "240/240 - 1s - loss: 2.8849e-04 - accuracy: 1.0000 - val_loss: 0.1009 - val_accuracy: 0.9801\n",
      "Epoch 44/60\n",
      "240/240 - 2s - loss: 2.5805e-04 - accuracy: 1.0000 - val_loss: 0.1008 - val_accuracy: 0.9804\n",
      "Epoch 45/60\n",
      "240/240 - 1s - loss: 2.3570e-04 - accuracy: 1.0000 - val_loss: 0.1008 - val_accuracy: 0.9801\n",
      "Epoch 46/60\n",
      "240/240 - 2s - loss: 2.1357e-04 - accuracy: 1.0000 - val_loss: 0.1010 - val_accuracy: 0.9803\n",
      "Epoch 47/60\n",
      "240/240 - 1s - loss: 1.9615e-04 - accuracy: 1.0000 - val_loss: 0.1024 - val_accuracy: 0.9805\n",
      "Epoch 48/60\n",
      "240/240 - 1s - loss: 1.8244e-04 - accuracy: 1.0000 - val_loss: 0.1024 - val_accuracy: 0.9805\n",
      "Epoch 49/60\n",
      "240/240 - 1s - loss: 1.6566e-04 - accuracy: 1.0000 - val_loss: 0.1033 - val_accuracy: 0.9800\n",
      "Epoch 50/60\n",
      "240/240 - 1s - loss: 1.5405e-04 - accuracy: 1.0000 - val_loss: 0.1037 - val_accuracy: 0.9803\n",
      "Epoch 51/60\n",
      "240/240 - 1s - loss: 1.4592e-04 - accuracy: 1.0000 - val_loss: 0.1040 - val_accuracy: 0.9808\n",
      "Epoch 52/60\n",
      "240/240 - 1s - loss: 1.2946e-04 - accuracy: 1.0000 - val_loss: 0.1047 - val_accuracy: 0.9806\n",
      "Epoch 53/60\n",
      "240/240 - 2s - loss: 1.2009e-04 - accuracy: 1.0000 - val_loss: 0.1052 - val_accuracy: 0.9802\n",
      "Epoch 54/60\n",
      "240/240 - 2s - loss: 1.0921e-04 - accuracy: 1.0000 - val_loss: 0.1046 - val_accuracy: 0.9807\n",
      "Epoch 55/60\n",
      "240/240 - 1s - loss: 1.0184e-04 - accuracy: 1.0000 - val_loss: 0.1052 - val_accuracy: 0.9807\n",
      "Epoch 56/60\n",
      "240/240 - 2s - loss: 9.3281e-05 - accuracy: 1.0000 - val_loss: 0.1059 - val_accuracy: 0.9807\n",
      "Epoch 57/60\n",
      "240/240 - 2s - loss: 8.5946e-05 - accuracy: 1.0000 - val_loss: 0.1064 - val_accuracy: 0.9809\n",
      "Epoch 58/60\n",
      "240/240 - 2s - loss: 7.8275e-05 - accuracy: 1.0000 - val_loss: 0.1068 - val_accuracy: 0.9811\n",
      "Epoch 59/60\n",
      "240/240 - 1s - loss: 7.2080e-05 - accuracy: 1.0000 - val_loss: 0.1073 - val_accuracy: 0.9810\n",
      "Epoch 60/60\n",
      "240/240 - 1s - loss: 6.6345e-05 - accuracy: 1.0000 - val_loss: 0.1079 - val_accuracy: 0.9807\n"
     ]
    }
   ],
   "source": [
    "#训练过程要分成训练部分和验证部分，80%用于训练（48000）  20%：验证（12000）\n",
    "#epochs:设置训练次数\n",
    "#batch_size:每次训练取出数据的个数\n",
    "#verbose:2 表示训练过程中打印显示训练过程\n",
    "train_history = model.fit(train_image_normalize, train_label_onehotencoding, validation_split=0.2, epochs=60, batch_size=200, verbose=2)"
   ]
  },
  {
   "cell_type": "code",
   "execution_count": 23,
   "metadata": {},
   "outputs": [
    {
     "name": "stdout",
     "output_type": "stream",
     "text": [
      "[0.8830833435058594, 0.9457499980926514, 0.9614791870117188, 0.9698541760444641, 0.9761666655540466, 0.9815624952316284, 0.9850624799728394, 0.987541675567627, 0.9905624985694885, 0.992479145526886, 0.9941458106040955, 0.9958750009536743, 0.9962916374206543, 0.997041642665863, 0.9977499842643738, 0.9982916712760925, 0.9987916946411133, 0.9990416765213013, 0.9994583129882812, 0.9994583129882812, 0.9998124837875366, 0.9998958110809326, 0.99979168176651, 0.99979168176651, 0.9997708201408386, 1.0, 0.9994166493415833, 1.0, 1.0, 1.0, 1.0, 1.0, 1.0, 1.0, 1.0, 1.0, 0.9992291927337646, 0.9939583539962769, 0.9993125200271606, 0.9999791383743286, 1.0, 1.0, 1.0, 1.0, 1.0, 1.0, 1.0, 1.0, 1.0, 1.0, 1.0, 1.0, 1.0, 1.0, 1.0, 1.0, 1.0, 1.0, 1.0, 1.0]\n",
      "-------------------------------------------------------------------------------\n",
      "[0.9410833120346069, 0.9553333520889282, 0.9628333449363708, 0.9652500152587891, 0.9710000157356262, 0.9706666469573975, 0.9740833044052124, 0.9735000133514404, 0.9755833148956299, 0.9764166474342346, 0.9767500162124634, 0.9764999747276306, 0.9774166941642761, 0.9771666526794434, 0.9769999980926514, 0.9789999723434448, 0.9778333306312561, 0.9775000214576721, 0.9783333539962769, 0.9789999723434448, 0.9786666631698608, 0.9789999723434448, 0.9786666631698608, 0.9762499928474426, 0.9785000085830688, 0.9792500138282776, 0.9793333411216736, 0.9792500138282776, 0.9800000190734863, 0.9792500138282776, 0.9793333411216736, 0.9794166684150696, 0.9802500009536743, 0.9797499775886536, 0.9800833463668823, 0.9800833463668823, 0.9692500233650208, 0.9759166836738586, 0.9788333177566528, 0.9802500009536743, 0.9798333048820496, 0.9799166917800903, 0.9800833463668823, 0.9804166555404663, 0.9800833463668823, 0.9802500009536743, 0.9804999828338623, 0.9804999828338623, 0.9800000190734863, 0.9803333282470703, 0.9807500243186951, 0.9805833101272583, 0.9801666736602783, 0.9806666374206543, 0.9806666374206543, 0.9806666374206543, 0.9809166789054871, 0.981083333492279, 0.9810000061988831, 0.9806666374206543]\n",
      "-------------------------------------------------------------------------------\n",
      "[0.43792489171028137, 0.19131140410900116, 0.13693895936012268, 0.1055155098438263, 0.08330465853214264, 0.06724337488412857, 0.05553580820560455, 0.04589802399277687, 0.03769373148679733, 0.031186437234282494, 0.026017967611551285, 0.021056849509477615, 0.018601076677441597, 0.015248619019985199, 0.012711510993540287, 0.010767688974738121, 0.008541527204215527, 0.0071009439416229725, 0.0059797330759465694, 0.005174386780709028, 0.004100824240595102, 0.003146953647956252, 0.0028346884064376354, 0.002750144340097904, 0.0027875457890331745, 0.0016300418647006154, 0.003190760500729084, 0.0014685227070003748, 0.0010168325388804078, 0.0008146045147441328, 0.0008285556104965508, 0.0006722238031215966, 0.0005544268060475588, 0.0005137216066941619, 0.0005079584661871195, 0.0004764540062751621, 0.0029683755710721016, 0.018054310232400894, 0.0029738862067461014, 0.0006605026428587735, 0.0004121323290746659, 0.0003293095505796373, 0.0002884938439819962, 0.0002580531290732324, 0.00023569654149468988, 0.00021356680372264236, 0.00019615355995483696, 0.00018244082457385957, 0.0001656624226598069, 0.0001540478115202859, 0.00014591698709409684, 0.0001294646062888205, 0.00012009017518721521, 0.00010920520435320213, 0.00010183676931774244, 9.328112355433404e-05, 8.594609971623868e-05, 7.827499939594418e-05, 7.208016177173704e-05, 6.634484452661127e-05]\n",
      "-------------------------------------------------------------------------------\n",
      "[0.21496371924877167, 0.1573435217142105, 0.1308143138885498, 0.11558333039283752, 0.09909617155790329, 0.0941108837723732, 0.08477999269962311, 0.08459747582674026, 0.08275343477725983, 0.07814022898674011, 0.07787293195724487, 0.07661234587430954, 0.08049933612346649, 0.07687488943338394, 0.07859785109758377, 0.07822661846876144, 0.07844959199428558, 0.07826334983110428, 0.08054795116186142, 0.08028703927993774, 0.08192933350801468, 0.08056347817182541, 0.0836491733789444, 0.08954981714487076, 0.08492664247751236, 0.08443927764892578, 0.08772764354944229, 0.08637522161006927, 0.08687952905893326, 0.08967414498329163, 0.08732326328754425, 0.08909458667039871, 0.09146657586097717, 0.09238007664680481, 0.09296581149101257, 0.09386155009269714, 0.15906253457069397, 0.10508446395397186, 0.10170222073793411, 0.09768127650022507, 0.09840156137943268, 0.0996629148721695, 0.10087931156158447, 0.10075586289167404, 0.10081080347299576, 0.10104250907897949, 0.10239563882350922, 0.10240958631038666, 0.10330040752887726, 0.10373353958129883, 0.10399588197469711, 0.1046539917588234, 0.10522349178791046, 0.10455979406833649, 0.10516802221536636, 0.10590574145317078, 0.10640566051006317, 0.10684698820114136, 0.10725376754999161, 0.1078840047121048]\n"
     ]
    }
   ],
   "source": [
    "print(train_history.history['accuracy'])\n",
    "print(\"-------------------------------------------------------------------------------\")\n",
    "print(train_history.history['val_accuracy'])\n",
    "print(\"-------------------------------------------------------------------------------\")\n",
    "print(train_history.history['loss'])\n",
    "print(\"-------------------------------------------------------------------------------\")\n",
    "print(train_history.history['val_loss'])"
   ]
  },
  {
   "cell_type": "code",
   "execution_count": 24,
   "metadata": {},
   "outputs": [
    {
     "data": {
      "image/png": "[encoded data removed]",
      "text/plain": [
       "<Figure size 432x288 with 1 Axes>"
      ]
     },
     "metadata": {
      "needs_background": "light"
     },
     "output_type": "display_data"
    }
   ],
   "source": [
    "import matplotlib.pyplot as plt\n",
    "plt.plot(train_history.history['accuracy'])\n",
    "plt.plot(train_history.history['val_accuracy'])\n",
    "plt.title(\"Train History\")\n",
    "plt.xlabel(\"Epoch\")\n",
    "plt.ylabel(\"Accuracy\")\n",
    "plt.show()"
   ]
  },
  {
   "cell_type": "code",
   "execution_count": null,
   "metadata": {},
   "outputs": [],
   "source": []
  }
 ],
 "metadata": {
  "kernelspec": {
   "display_name": "Python 3",
   "language": "python",
   "name": "python3"
  },
  "language_info": {
   "codemirror_mode": {
    "name": "ipython",
    "version": 3
   },
   "file_extension": ".py",
   "mimetype": "text/x-python",
   "name": "python",
   "nbconvert_exporter": "python",
   "pygments_lexer": "ipython3",
   "version": "3.7.6"
  }
 },
 "nbformat": 4,
 "nbformat_minor": 4
}
