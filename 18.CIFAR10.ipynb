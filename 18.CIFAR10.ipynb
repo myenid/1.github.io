{
 "cells": [
  {
   "cell_type": "markdown",
   "metadata": {},
   "source": [
    "0:airplane 1:automobile 2:bird 3:cat 4:deer 5:dog 6:frog 7:horse 8:ship 9:truck"
   ]
  },
  {
   "cell_type": "code",
   "execution_count": 1,
   "metadata": {},
   "outputs": [],
   "source": [
    "from keras.datasets import cifar10"
   ]
  },
  {
   "cell_type": "code",
   "execution_count": 2,
   "metadata": {},
   "outputs": [],
   "source": [
    "(train_image, train_label), (test_image, test_label) = cifar10.load_data()"
   ]
  },
  {
   "cell_type": "code",
   "execution_count": 3,
   "metadata": {},
   "outputs": [
    {
     "name": "stdout",
     "output_type": "stream",
     "text": [
      "train =  50000\n",
      "test =  10000\n"
     ]
    }
   ],
   "source": [
    "print(\"train = \", len(train_image))\n",
    "print(\"test = \", len(test_image))"
   ]
  },
  {
   "cell_type": "code",
   "execution_count": 4,
   "metadata": {},
   "outputs": [
    {
     "data": {
      "text/plain": [
       "(50000, 32, 32, 3)"
      ]
     },
     "execution_count": 4,
     "metadata": {},
     "output_type": "execute_result"
    }
   ],
   "source": [
    "train_image.shape"
   ]
  },
  {
   "cell_type": "code",
   "execution_count": 5,
   "metadata": {},
   "outputs": [],
   "source": [
    "import matplotlib.pyplot as plt\n",
    "def show_cifar10_image(image):\n",
    "    plt.imshow(image)\n",
    "    plt.show()"
   ]
  },
  {
   "cell_type": "code",
   "execution_count": 6,
   "metadata": {},
   "outputs": [
    {
     "data": {
      "image/png": "[encoded data removed]",
      "text/plain": [
       "<Figure size 432x288 with 1 Axes>"
      ]
     },
     "metadata": {
      "needs_background": "light"
     },
     "output_type": "display_data"
    }
   ],
   "source": [
    "show_cifar10_image(train_image[0])"
   ]
  },
  {
   "cell_type": "code",
   "execution_count": 7,
   "metadata": {},
   "outputs": [
    {
     "data": {
      "text/plain": [
       "array([[[ 59,  62,  63],\n",
       "        [ 43,  46,  45],\n",
       "        [ 50,  48,  43],\n",
       "        ...,\n",
       "        [158, 132, 108],\n",
       "        [152, 125, 102],\n",
       "        [148, 124, 103]],\n",
       "\n",
       "       [[ 16,  20,  20],\n",
       "        [  0,   0,   0],\n",
       "        [ 18,   8,   0],\n",
       "        ...,\n",
       "        [123,  88,  55],\n",
       "        [119,  83,  50],\n",
       "        [122,  87,  57]],\n",
       "\n",
       "       [[ 25,  24,  21],\n",
       "        [ 16,   7,   0],\n",
       "        [ 49,  27,   8],\n",
       "        ...,\n",
       "        [118,  84,  50],\n",
       "        [120,  84,  50],\n",
       "        [109,  73,  42]],\n",
       "\n",
       "       ...,\n",
       "\n",
       "       [[208, 170,  96],\n",
       "        [201, 153,  34],\n",
       "        [198, 161,  26],\n",
       "        ...,\n",
       "        [160, 133,  70],\n",
       "        [ 56,  31,   7],\n",
       "        [ 53,  34,  20]],\n",
       "\n",
       "       [[180, 139,  96],\n",
       "        [173, 123,  42],\n",
       "        [186, 144,  30],\n",
       "        ...,\n",
       "        [184, 148,  94],\n",
       "        [ 97,  62,  34],\n",
       "        [ 83,  53,  34]],\n",
       "\n",
       "       [[177, 144, 116],\n",
       "        [168, 129,  94],\n",
       "        [179, 142,  87],\n",
       "        ...,\n",
       "        [216, 184, 140],\n",
       "        [151, 118,  84],\n",
       "        [123,  92,  72]]], dtype=uint8)"
      ]
     },
     "execution_count": 7,
     "metadata": {},
     "output_type": "execute_result"
    }
   ],
   "source": [
    "train_image[0]"
   ]
  },
  {
   "cell_type": "code",
   "execution_count": 8,
   "metadata": {},
   "outputs": [
    {
     "data": {
      "text/plain": [
       "array([59, 62, 63], dtype=uint8)"
      ]
     },
     "execution_count": 8,
     "metadata": {},
     "output_type": "execute_result"
    }
   ],
   "source": [
    "train_image[0][0][0]"
   ]
  },
  {
   "cell_type": "code",
   "execution_count": 9,
   "metadata": {},
   "outputs": [
    {
     "data": {
      "image/png": "[encoded data removed]",
      "text/plain": [
       "<Figure size 432x288 with 1 Axes>"
      ]
     },
     "metadata": {
      "needs_background": "light"
     },
     "output_type": "display_data"
    }
   ],
   "source": [
    "show_cifar10_image(train_image[1])"
   ]
  },
  {
   "cell_type": "code",
   "execution_count": 10,
   "metadata": {},
   "outputs": [
    {
     "data": {
      "image/png": "[encoded data removed]",
      "text/plain": [
       "<Figure size 432x288 with 1 Axes>"
      ]
     },
     "metadata": {
      "needs_background": "light"
     },
     "output_type": "display_data"
    }
   ],
   "source": [
    "show_cifar10_image(train_image[2])"
   ]
  },
  {
   "cell_type": "code",
   "execution_count": 11,
   "metadata": {},
   "outputs": [
    {
     "data": {
      "image/png": "[encoded data removed]",
      "text/plain": [
       "<Figure size 432x288 with 1 Axes>"
      ]
     },
     "metadata": {
      "needs_background": "light"
     },
     "output_type": "display_data"
    }
   ],
   "source": [
    "show_cifar10_image(train_image[3])"
   ]
  },
  {
   "cell_type": "code",
   "execution_count": 12,
   "metadata": {},
   "outputs": [
    {
     "data": {
      "image/png": "[encoded data removed]",
      "text/plain": [
       "<Figure size 432x288 with 1 Axes>"
      ]
     },
     "metadata": {
      "needs_background": "light"
     },
     "output_type": "display_data"
    }
   ],
   "source": [
    "show_cifar10_image(train_image[4])"
   ]
  },
  {
   "cell_type": "code",
   "execution_count": 13,
   "metadata": {},
   "outputs": [
    {
     "data": {
      "text/plain": [
       "array([6], dtype=uint8)"
      ]
     },
     "execution_count": 13,
     "metadata": {},
     "output_type": "execute_result"
    }
   ],
   "source": [
    "train_label[0]"
   ]
  },
  {
   "cell_type": "code",
   "execution_count": 14,
   "metadata": {},
   "outputs": [
    {
     "data": {
      "text/plain": [
       "array([9], dtype=uint8)"
      ]
     },
     "execution_count": 14,
     "metadata": {},
     "output_type": "execute_result"
    }
   ],
   "source": [
    "train_label[1]"
   ]
  },
  {
   "cell_type": "code",
   "execution_count": 15,
   "metadata": {},
   "outputs": [
    {
     "data": {
      "text/plain": [
       "array([9], dtype=uint8)"
      ]
     },
     "execution_count": 15,
     "metadata": {},
     "output_type": "execute_result"
    }
   ],
   "source": [
    "train_label[2]"
   ]
  },
  {
   "cell_type": "code",
   "execution_count": 16,
   "metadata": {},
   "outputs": [
    {
     "data": {
      "text/plain": [
       "array([4], dtype=uint8)"
      ]
     },
     "execution_count": 16,
     "metadata": {},
     "output_type": "execute_result"
    }
   ],
   "source": [
    "train_label[3]"
   ]
  },
  {
   "cell_type": "code",
   "execution_count": 17,
   "metadata": {},
   "outputs": [
    {
     "data": {
      "text/plain": [
       "array([1], dtype=uint8)"
      ]
     },
     "execution_count": 17,
     "metadata": {},
     "output_type": "execute_result"
    }
   ],
   "source": [
    "train_label[4]"
   ]
  },
  {
   "cell_type": "code",
   "execution_count": 18,
   "metadata": {},
   "outputs": [],
   "source": [
    "train_image_normalize = train_image.reshape(50000, 32, 32, 3).astype(float) / 255\n",
    "test_image_normalize = test_image.reshape(10000, 32, 32, 3).astype(float) /255"
   ]
  },
  {
   "cell_type": "code",
   "execution_count": 19,
   "metadata": {},
   "outputs": [],
   "source": [
    "#对标签进行一位有效编码的转换\n",
    "from keras.utils import np_utils\n",
    "import numpy as np\n",
    "train_label_onehotencoding = np_utils.to_categorical(train_label)\n",
    "test_label_onehotencoding = np_utils.to_categorical(test_label)"
   ]
  },
  {
   "cell_type": "code",
   "execution_count": 20,
   "metadata": {},
   "outputs": [],
   "source": [
    "from keras.models import Sequential\n",
    "from keras.layers import Dense\n",
    "from keras.layers import Dropout\n",
    "from keras.layers import Conv2D, MaxPooling2D, Flatten"
   ]
  },
  {
   "cell_type": "code",
   "execution_count": 21,
   "metadata": {},
   "outputs": [],
   "source": [
    "#Sequential:建立一个线性堆叠的模型\n",
    "model = Sequential()"
   ]
  },
  {
   "cell_type": "code",
   "execution_count": 22,
   "metadata": {},
   "outputs": [],
   "source": [
    "#filters:产生滤镜的个数\n",
    "#kernel_size:产生滤镜的尺寸\n",
    "#padding = 'same': 不改变图片的大小\n",
    "#input_shape:指定输入图片的尺寸规格\n",
    "model.add(Conv2D(filters=16, kernel_size=(5,5), padding='same', input_shape=(32,32,3), activation='relu'))"
   ]
  },
  {
   "cell_type": "code",
   "execution_count": 23,
   "metadata": {},
   "outputs": [],
   "source": [
    "model.add(MaxPooling2D(pool_size=(2,2)))"
   ]
  },
  {
   "cell_type": "code",
   "execution_count": 24,
   "metadata": {},
   "outputs": [],
   "source": [
    "model.add(Conv2D(filters=32, kernel_size=(5,5), padding='same', activation='relu'))"
   ]
  },
  {
   "cell_type": "code",
   "execution_count": 25,
   "metadata": {},
   "outputs": [],
   "source": [
    "model.add(MaxPooling2D(pool_size=(2,2)))"
   ]
  },
  {
   "cell_type": "code",
   "execution_count": 26,
   "metadata": {},
   "outputs": [],
   "source": [
    "model.add(Flatten())"
   ]
  },
  {
   "cell_type": "code",
   "execution_count": 27,
   "metadata": {},
   "outputs": [],
   "source": [
    "model.add(Dense(units=128, kernel_initializer = 'normal', activation = 'relu'))"
   ]
  },
  {
   "cell_type": "code",
   "execution_count": 28,
   "metadata": {},
   "outputs": [],
   "source": [
    "model.add(Dropout(0.5))"
   ]
  },
  {
   "cell_type": "code",
   "execution_count": 29,
   "metadata": {},
   "outputs": [],
   "source": [
    "model.add(Dense(units = 10, kernel_initializer = 'normal', activation = 'softmax'))"
   ]
  },
  {
   "cell_type": "code",
   "execution_count": 30,
   "metadata": {},
   "outputs": [],
   "source": [
    "model.compile(loss='categorical_crossentropy', optimizer='adam', metrics=['accuracy'])"
   ]
  },
  {
   "cell_type": "code",
   "execution_count": 31,
   "metadata": {},
   "outputs": [
    {
     "name": "stdout",
     "output_type": "stream",
     "text": [
      "Epoch 1/30\n",
      "200/200 - 31s - loss: 1.8352 - accuracy: 0.3250 - val_loss: 1.5524 - val_accuracy: 0.4514\n",
      "Epoch 2/30\n",
      "200/200 - 30s - loss: 1.5254 - accuracy: 0.4496 - val_loss: 1.4384 - val_accuracy: 0.4893\n",
      "Epoch 3/30\n",
      "200/200 - 30s - loss: 1.4213 - accuracy: 0.4886 - val_loss: 1.3143 - val_accuracy: 0.5376\n",
      "Epoch 4/30\n",
      "200/200 - 30s - loss: 1.3405 - accuracy: 0.5219 - val_loss: 1.2785 - val_accuracy: 0.5487\n",
      "Epoch 5/30\n",
      "200/200 - 30s - loss: 1.2793 - accuracy: 0.5447 - val_loss: 1.1740 - val_accuracy: 0.5866\n",
      "Epoch 6/30\n",
      "200/200 - 30s - loss: 1.2191 - accuracy: 0.5664 - val_loss: 1.1392 - val_accuracy: 0.5993\n",
      "Epoch 7/30\n",
      "200/200 - 30s - loss: 1.1720 - accuracy: 0.5825 - val_loss: 1.0888 - val_accuracy: 0.6182\n",
      "Epoch 8/30\n",
      "200/200 - 30s - loss: 1.1293 - accuracy: 0.6001 - val_loss: 1.0729 - val_accuracy: 0.6193\n",
      "Epoch 9/30\n",
      "200/200 - 30s - loss: 1.0941 - accuracy: 0.6131 - val_loss: 1.0440 - val_accuracy: 0.6299\n",
      "Epoch 10/30\n",
      "200/200 - 30s - loss: 1.0615 - accuracy: 0.6210 - val_loss: 1.0405 - val_accuracy: 0.6334\n",
      "Epoch 11/30\n",
      "200/200 - 30s - loss: 1.0287 - accuracy: 0.6357 - val_loss: 1.0002 - val_accuracy: 0.6465\n",
      "Epoch 12/30\n",
      "200/200 - 30s - loss: 0.9971 - accuracy: 0.6460 - val_loss: 0.9948 - val_accuracy: 0.6516\n",
      "Epoch 13/30\n",
      "200/200 - 29s - loss: 0.9788 - accuracy: 0.6529 - val_loss: 0.9759 - val_accuracy: 0.6576\n",
      "Epoch 14/30\n",
      "200/200 - 30s - loss: 0.9543 - accuracy: 0.6605 - val_loss: 0.9651 - val_accuracy: 0.6583\n",
      "Epoch 15/30\n",
      "200/200 - 30s - loss: 0.9284 - accuracy: 0.6691 - val_loss: 0.9686 - val_accuracy: 0.6578\n",
      "Epoch 16/30\n",
      "200/200 - 30s - loss: 0.9060 - accuracy: 0.6768 - val_loss: 0.9601 - val_accuracy: 0.6620\n",
      "Epoch 17/30\n",
      "200/200 - 30s - loss: 0.8817 - accuracy: 0.6833 - val_loss: 0.9664 - val_accuracy: 0.6657\n",
      "Epoch 18/30\n",
      "200/200 - 34s - loss: 0.8681 - accuracy: 0.6902 - val_loss: 0.9368 - val_accuracy: 0.6699\n",
      "Epoch 19/30\n",
      "200/200 - 33s - loss: 0.8485 - accuracy: 0.7003 - val_loss: 0.9107 - val_accuracy: 0.6816\n",
      "Epoch 20/30\n",
      "200/200 - 32s - loss: 0.8326 - accuracy: 0.7024 - val_loss: 0.9200 - val_accuracy: 0.6795\n",
      "Epoch 21/30\n",
      "200/200 - 34s - loss: 0.8137 - accuracy: 0.7079 - val_loss: 0.9214 - val_accuracy: 0.6803\n",
      "Epoch 22/30\n",
      "200/200 - 35s - loss: 0.8011 - accuracy: 0.7127 - val_loss: 0.9379 - val_accuracy: 0.6777\n",
      "Epoch 23/30\n",
      "200/200 - 36s - loss: 0.7815 - accuracy: 0.7188 - val_loss: 0.9206 - val_accuracy: 0.6827\n",
      "Epoch 24/30\n",
      "200/200 - 36s - loss: 0.7526 - accuracy: 0.7281 - val_loss: 0.9806 - val_accuracy: 0.6718\n",
      "Epoch 25/30\n",
      "200/200 - 31s - loss: 0.7495 - accuracy: 0.7310 - val_loss: 0.9407 - val_accuracy: 0.6815\n",
      "Epoch 26/30\n",
      "200/200 - 31s - loss: 0.7363 - accuracy: 0.7346 - val_loss: 0.9325 - val_accuracy: 0.6825\n",
      "Epoch 27/30\n",
      "200/200 - 31s - loss: 0.7164 - accuracy: 0.7395 - val_loss: 0.9244 - val_accuracy: 0.6858\n",
      "Epoch 28/30\n",
      "200/200 - 31s - loss: 0.7081 - accuracy: 0.7429 - val_loss: 0.9236 - val_accuracy: 0.6901\n",
      "Epoch 29/30\n",
      "200/200 - 33s - loss: 0.6899 - accuracy: 0.7476 - val_loss: 0.9277 - val_accuracy: 0.6938\n",
      "Epoch 30/30\n",
      "200/200 - 32s - loss: 0.6728 - accuracy: 0.7539 - val_loss: 0.9541 - val_accuracy: 0.6881\n"
     ]
    }
   ],
   "source": [
    "train_history = model.fit(train_image_normalize, train_label_onehotencoding, validation_split=0.2, epochs=30, batch_size=200, verbose=2)"
   ]
  },
  {
   "cell_type": "code",
   "execution_count": 32,
   "metadata": {},
   "outputs": [
    {
     "data": {
      "image/png": "[encoded data removed]",
      "text/plain": [
       "<Figure size 432x288 with 1 Axes>"
      ]
     },
     "metadata": {
      "needs_background": "light"
     },
     "output_type": "display_data"
    }
   ],
   "source": [
    "import matplotlib.pyplot as plt\n",
    "plt.plot(train_history.history['accuracy'])\n",
    "plt.plot(train_history.history['val_accuracy'])\n",
    "plt.title(\"Train History\")\n",
    "plt.xlabel(\"Epoch\")\n",
    "plt.ylabel(\"Accuracy\")\n",
    "plt.show()"
   ]
  },
  {
   "cell_type": "code",
   "execution_count": 33,
   "metadata": {},
   "outputs": [
    {
     "name": "stdout",
     "output_type": "stream",
     "text": [
      "313/313 [==============================] - 2s 7ms/step - loss: 0.9588 - accuracy: 0.6879\n",
      "[0.9588322043418884, 0.6879000067710876]\n"
     ]
    }
   ],
   "source": [
    "socres = model.evaluate(test_image_normalize, test_label_onehotencoding)\n",
    "print(socres)"
   ]
  },
  {
   "cell_type": "code",
   "execution_count": 34,
   "metadata": {},
   "outputs": [],
   "source": [
    "model.save(\"CIFAR10_CNN.h5\")"
   ]
  },
  {
   "cell_type": "code",
   "execution_count": null,
   "metadata": {},
   "outputs": [],
   "source": []
  }
 ],
 "metadata": {
  "kernelspec": {
   "display_name": "Python 3",
   "language": "python",
   "name": "python3"
  },
  "language_info": {
   "codemirror_mode": {
    "name": "ipython",
    "version": 3
   },
   "file_extension": ".py",
   "mimetype": "text/x-python",
   "name": "python",
   "nbconvert_exporter": "python",
   "pygments_lexer": "ipython3",
   "version": "3.7.6"
  }
 },
 "nbformat": 4,
 "nbformat_minor": 4
}
