{
 "cells": [
  {
   "cell_type": "code",
   "execution_count": 1,
   "metadata": {},
   "outputs": [
    {
     "name": "stdout",
     "output_type": "stream",
     "text": [
      "x\n",
      "y\n",
      "z\n",
      "Hello world\n"
     ]
    }
   ],
   "source": [
    "a = ['x', 'y', 'z']\n",
    "\n",
    "for i in a:\n",
    "    print(i)\n",
    "    \n",
    "print(\"Hello world\")"
   ]
  },
  {
   "cell_type": "code",
   "execution_count": 2,
   "metadata": {},
   "outputs": [
    {
     "name": "stdout",
     "output_type": "stream",
     "text": [
      "1\n",
      "2\n",
      "3\n"
     ]
    }
   ],
   "source": [
    "b = {1:\"123\", 2:\"456\", 3:\"789\"}\n",
    "\n",
    "for j in b:            #对于字典，循环遍历实际上操作的是Key\n",
    "    print(j)"
   ]
  },
  {
   "cell_type": "code",
   "execution_count": 3,
   "metadata": {},
   "outputs": [
    {
     "name": "stdout",
     "output_type": "stream",
     "text": [
      "小明\n",
      "This is a book\n",
      "Rose\n",
      "李四\n",
      "张三\n",
      "小红\n"
     ]
    }
   ],
   "source": [
    "c = {\"This is a book\", \"小明\", \"小红\", \"张三\", \"李四\", \"Rose\"}\n",
    "\n",
    "for k in c:\n",
    "    print(k)"
   ]
  },
  {
   "cell_type": "code",
   "execution_count": 4,
   "metadata": {},
   "outputs": [
    {
     "name": "stdout",
     "output_type": "stream",
     "text": [
      "1\n",
      "2\n",
      "3\n",
      "123\n",
      "456\n",
      "789\n"
     ]
    }
   ],
   "source": [
    "b = {1:\"123\", 2:\"456\", 3:\"789\"}\n",
    "\n",
    "for j in b:            #对于字典，循环遍历实际上操作的是Key\n",
    "    print(j)\n",
    "    \n",
    "for j in b.values():\n",
    "    print(j)"
   ]
  },
  {
   "cell_type": "code",
   "execution_count": 6,
   "metadata": {},
   "outputs": [
    {
     "name": "stdout",
     "output_type": "stream",
     "text": [
      "Key =  1 Value =  123\n",
      "Key =  2 Value =  456\n",
      "Key =  3 Value =  789\n"
     ]
    }
   ],
   "source": [
    "for k,v in b.items():\n",
    "    print(\"Key = \", k, \"Value = \", v)"
   ]
  },
  {
   "cell_type": "code",
   "execution_count": 7,
   "metadata": {},
   "outputs": [
    {
     "name": "stdout",
     "output_type": "stream",
     "text": [
      "index =  0 key =  1 value =  123\n",
      "index =  1 key =  2 value =  456\n",
      "index =  2 key =  3 value =  789\n"
     ]
    }
   ],
   "source": [
    "for l, (k, v) in enumerate(b.items()):\n",
    "    print(\"index = \", l, \"key = \", k, \"value = \", v)"
   ]
  },
  {
   "cell_type": "code",
   "execution_count": null,
   "metadata": {},
   "outputs": [],
   "source": []
  }
 ],
 "metadata": {
  "kernelspec": {
   "display_name": "Python 3",
   "language": "python",
   "name": "python3"
  },
  "language_info": {
   "codemirror_mode": {
    "name": "ipython",
    "version": 3
   },
   "file_extension": ".py",
   "mimetype": "text/x-python",
   "name": "python",
   "nbconvert_exporter": "python",
   "pygments_lexer": "ipython3",
   "version": "3.7.6"
  }
 },
 "nbformat": 4,
 "nbformat_minor": 4
}
