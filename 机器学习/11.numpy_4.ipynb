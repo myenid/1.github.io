{
 "cells": [
  {
   "cell_type": "code",
   "execution_count": 1,
   "metadata": {},
   "outputs": [],
   "source": [
    "import numpy as np"
   ]
  },
  {
   "cell_type": "code",
   "execution_count": 2,
   "metadata": {},
   "outputs": [
    {
     "name": "stdout",
     "output_type": "stream",
     "text": [
      "[0.50056632 0.38226493 0.37514939 0.83783288 0.20310233]\n",
      "-------------------------------------------------\n",
      "[[0.85247295 0.99658145 0.33737234 0.37046714]\n",
      " [0.85871882 0.00653745 0.02704048 0.45653709]]\n"
     ]
    }
   ],
   "source": [
    "a = np.random.random(size = 5)\n",
    "b = np.random.random(size = (2, 4))\n",
    "print(a)\n",
    "print(\"-------------------------------------------------\")\n",
    "print(b)"
   ]
  },
  {
   "cell_type": "code",
   "execution_count": 3,
   "metadata": {},
   "outputs": [
    {
     "name": "stdout",
     "output_type": "stream",
     "text": [
      "[0.50056632 0.50056632 0.50056632 0.83783288 0.83783288]\n"
     ]
    }
   ],
   "source": [
    "print(np.maximum.accumulate(a))"
   ]
  },
  {
   "cell_type": "code",
   "execution_count": 4,
   "metadata": {},
   "outputs": [
    {
     "name": "stdout",
     "output_type": "stream",
     "text": [
      "[[0.85247295 0.99658145 0.33737234 0.37046714]\n",
      " [0.85871882 0.99658145 0.33737234 0.45653709]]\n"
     ]
    }
   ],
   "source": [
    "print(np.maximum.accumulate(b))"
   ]
  },
  {
   "cell_type": "code",
   "execution_count": 5,
   "metadata": {},
   "outputs": [
    {
     "name": "stdout",
     "output_type": "stream",
     "text": [
      "[[0.85247295 0.99658145 0.99658145 0.99658145]\n",
      " [0.85871882 0.85871882 0.85871882 0.85871882]]\n"
     ]
    }
   ],
   "source": [
    "print(np.maximum.accumulate(b, axis = 1))"
   ]
  },
  {
   "cell_type": "code",
   "execution_count": 6,
   "metadata": {},
   "outputs": [
    {
     "name": "stdout",
     "output_type": "stream",
     "text": [
      "[[0.85247295 0.85247295 0.33737234 0.33737234]\n",
      " [0.85871882 0.00653745 0.00653745 0.00653745]]\n"
     ]
    }
   ],
   "source": [
    "print(np.minimum.accumulate(b, axis = 1))"
   ]
  },
  {
   "cell_type": "code",
   "execution_count": null,
   "metadata": {},
   "outputs": [],
   "source": []
  }
 ],
 "metadata": {
  "kernelspec": {
   "display_name": "Python 3",
   "language": "python",
   "name": "python3"
  },
  "language_info": {
   "codemirror_mode": {
    "name": "ipython",
    "version": 3
   },
   "file_extension": ".py",
   "mimetype": "text/x-python",
   "name": "python",
   "nbconvert_exporter": "python",
   "pygments_lexer": "ipython3",
   "version": "3.7.6"
  }
 },
 "nbformat": 4,
 "nbformat_minor": 4
}
